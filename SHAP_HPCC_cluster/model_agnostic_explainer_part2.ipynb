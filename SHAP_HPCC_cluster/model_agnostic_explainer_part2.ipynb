{
 "cells": [
  {
   "cell_type": "code",
   "execution_count": null,
   "metadata": {
    "hide_input": false
   },
   "outputs": [],
   "source": [
    "import warnings\n",
    "warnings.filterwarnings('ignore')\n",
    "\n",
    "from sklearn.metrics import accuracy_score\n",
    "from scipy.stats import zscore\n",
    "import pandas as pd\n",
    "import pickle\n",
    "import shap\n",
    "import matplotlib.pyplot as plt\n",
    "import seaborn as sns\n",
    "from sklearn.model_selection import train_test_split\n",
    "from sklearn.preprocessing import MinMaxScaler\n",
    "\n",
    "import numpy as np # linear algebra\n",
    "import pandas as pd # data processing, CSV file I/O (e.g. pd.read_csv)\n",
    "from json import JSONDecoder, JSONDecodeError  # for reading the JSON data files\n",
    "import re  # for regular expressions\n",
    "import os  # for os related operations\n",
    "\n",
    "import lightgbm as lgb\n",
    "from tqdm import tqdm_notebook as tqdm\n",
    "\n",
    "from sklearn import svm\n",
    "from sklearn.metrics import confusion_matrix\n",
    "\n",
    "from sklearn.metrics import log_loss\n",
    "from collections import Counter\n",
    "\n",
    "from datetime import datetime\n",
    "from sklearn.model_selection import train_test_split\n",
    "from IPython.core.display import display, HTML\n",
    "display(HTML(\"<style>.container { width:100% !important; }</style>\"))\n",
    "\n",
    "pd.set_option('display.max_rows', 500)\n",
    "pd.set_option('display.max_columns', 500)\n",
    "pd.set_option('display.width', 1000)\n",
    "pd.set_option('display.max_colwidth', 199)\n",
    "\n",
    "\n",
    "# print(os.getcwd())"
   ]
  },
  {
   "cell_type": "code",
   "execution_count": null,
   "metadata": {},
   "outputs": [],
   "source": [
    "def find_cluster(point):\n",
    "    return np.argmin([np.linalg.norm(point - center_list[i]) for i in range(len_cluster)])\n",
    "\n",
    "def find_cluster_matrix(matrix):\n",
    "    return np.array(list(map(find_cluster, matrix)))\n",
    "\n",
    "\n",
    "# read pickle\n",
    "with open('output/X_train.pkl', 'rb') as handle:\n",
    "    X_train = pickle.load(handle)\n",
    "\n",
    "with open('output/X_test.pkl', 'rb') as handle:\n",
    "    X_test = pickle.load(handle)\n",
    "    \n",
    "\n",
    "with open('output/explainer.pkl', 'rb') as handle:\n",
    "    explainer = pickle.load(handle)\n",
    "\n",
    "with open('output/shap_values.pkl', 'rb') as handle:\n",
    "    shap_values = pickle.load(handle)\n",
    "    \n",
    "shap_values.shape\n",
    "    \n"
   ]
  },
  {
   "cell_type": "code",
   "execution_count": null,
   "metadata": {},
   "outputs": [],
   "source": [
    "shap_values_np = np.array(shap_values)\n",
    "shap.initjs()"
   ]
  },
  {
   "cell_type": "markdown",
   "metadata": {},
   "source": [
    "# Show feature importance for each feature of each class "
   ]
  },
  {
   "cell_type": "code",
   "execution_count": null,
   "metadata": {},
   "outputs": [],
   "source": [
    "len_cluster = 9\n",
    "feature_cols = ['Fan3RPMReading-RPMReading', 'ThermalTotalPSUHeatDissipation-SysAirflowPerSysInputPower', 'Fan4RPMReading-RPMReading', 'DIMMSocketA1TemperatureReading-TemperatureReading', 'PowerMetricsTotalStoragePower-TotalMemoryPower', 'DIMMSocketA6TemperatureReading-TemperatureReading', 'CUPSSystemUsage-IOUsage', 'Fan2RPMReading-RPMReading', 'Fan1RPMReading-RPMReading', 'DIMMSocketA4TemperatureReading-TemperatureReading', 'CUPSSystemUsage-SystemUsage', 'DIMMSocketA3TemperatureReading-TemperatureReading', 'CUPSSystemUsage-MemoryUsage', 'CPU1TempTemperatureReading-TemperatureReading', 'Fan5RPMReading-RPMReading', 'PowerMetricsTotalStoragePower-SystemPowerConsumption', 'DIMMSocketA5TemperatureReading-TemperatureReading', 'PowerMetricsTotalStoragePower-TotalCPUPower', 'DIMMSocketA2TemperatureReading-TemperatureReading', 'ThermalTotalPSUHeatDissipation-PowerToCoolRatio', 'Fan6RPMReading-RPMReading', 'CPU2TempTemperatureReading-TemperatureReading', 'CUPSSystemUsage-CPUUsage']"
   ]
  },
  {
   "cell_type": "code",
   "execution_count": null,
   "metadata": {},
   "outputs": [],
   "source": [
    "shap_importance = pd.DataFrame(\n",
    "    {\"feature_name\": list(feature_cols), \"shap_value\": np.abs(shap_values).sum(axis=0)}).sort_values(\"shap_value\",\n",
    "                                                                                                     ascending=False)\n",
    "shap_importance[\"shap_value\"] = shap_importance[\"shap_value\"] * 100 / max(shap_importance[\"shap_value\"])\n",
    "\n",
    "shap_importance.head()"
   ]
  },
  {
   "cell_type": "code",
   "execution_count": null,
   "metadata": {},
   "outputs": [],
   "source": [
    "shap.summary_plot(shap_values, X_test, plot_type=\"bar\", feature_names=feature_cols, show=False)\n"
   ]
  },
  {
   "cell_type": "code",
   "execution_count": null,
   "metadata": {},
   "outputs": [],
   "source": [
    "shap.summary_plot(shap_values, X_test, feature_names=feature_cols, show=False)\n"
   ]
  },
  {
   "cell_type": "code",
   "execution_count": null,
   "metadata": {},
   "outputs": [],
   "source": [
    "shap_importance = pd.DataFrame({\"feature_name\": feature_cols})\n",
    "\n",
    "for i in range(len_cluster):\n",
    "    shap_class_i = pd.DataFrame({\"feature_name\": feature_cols, f\"cluster_{i}\": np.abs(shap_values[i]).sum(axis=0)})\n",
    "    shap_importance = pd.merge(shap_importance, shap_class_i, on=\"feature_name\", how=\"inner\")\n",
    "shap_importance"
   ]
  },
  {
   "cell_type": "code",
   "execution_count": null,
   "metadata": {},
   "outputs": [],
   "source": [
    "import plotly.graph_objects as go\n",
    "\n",
    "x = list(range(len_cluster))\n",
    "\n",
    "fig = go.Figure()\n",
    "for i in range(shap_importance.shape[0]):\n",
    "    fig.add_trace(go.Bar(x=x, y=shap_importance.iloc[i, 1:], name=shap_importance.iloc[i, 0]))\n",
    "\n",
    "\n",
    "fig.update_layout(barmode='relative', title_text='Feature importance for each cluster, colored by feature names',   \n",
    "        yaxis=dict(\n",
    "        title='importance value',\n",
    "    ),   xaxis=dict(\n",
    "        title='Cluster',\n",
    "    ))\n",
    "fig.show()"
   ]
  },
  {
   "cell_type": "code",
   "execution_count": null,
   "metadata": {},
   "outputs": [],
   "source": [
    "## Feature importance of each feature, colored by cluster\n",
    "\n",
    "shap.summary_plot(shap_values, X_valid, max_display =  len(feature_cols), show=False, plot_type = \"bar\")"
   ]
  },
  {
   "cell_type": "code",
   "execution_count": null,
   "metadata": {},
   "outputs": [],
   "source": [
    "## Show top feature importances of each class\n",
    "for i in range(len_cluster):\n",
    "    f = shap.summary_plot(shap_values[i], X_valid, max_display =  len(feature_cols), show=False, plot_type = \"bar\")\n",
    "    print(\"cluster\", i)\n",
    "    plt.show(f)\n",
    "    print(\"\\n\")"
   ]
  },
  {
   "cell_type": "markdown",
   "metadata": {},
   "source": [
    "# Show feature importance for each instance/observation"
   ]
  },
  {
   "cell_type": "code",
   "execution_count": null,
   "metadata": {},
   "outputs": [],
   "source": [
    "i = 0\n",
    "\n",
    "x = list(range(len(feature_cols)))\n",
    "fig = go.Figure()\n",
    "shape_1obs = shap_values_np[:,i,:]\n",
    "print(\"pred: Cluster\", pred_valid[i])\n",
    "for i in range(shape_1obs.shape[1]):\n",
    "    fig.add_trace(go.Scatter(x=x, y=shape_1obs[:,i], name=feature_cols[i], mode='markers'))\n",
    "\n",
    "\n",
    "fig.update_layout(barmode='relative', title_text='Feature importance for 1 observation, colored by feature names',   \n",
    "        yaxis=dict(\n",
    "        title='importance value',\n",
    "    ),   xaxis=dict(\n",
    "        title='Cluster',\n",
    "    ))\n",
    "fig.show()"
   ]
  },
  {
   "cell_type": "code",
   "execution_count": null,
   "metadata": {},
   "outputs": [],
   "source": [
    "i = 0\n",
    "\n",
    "x = feature_cols\n",
    "fig = go.Figure()\n",
    "shape_1obs = shap_values_np[:,i,:]\n",
    "print(\"pred: Cluster\", pred_valid[i])\n",
    "for i in range(len_cluster):\n",
    "    fig.add_trace(go.Scatter(x=x, y=shape_1obs[i,:], name=feature_cols[i], mode='markers'))\n",
    "\n",
    "\n",
    "fig.update_layout(barmode='relative', title_text='Feature importance for 1 observation, colored by feature names',   \n",
    "        yaxis=dict(\n",
    "        title='importance value',\n",
    "    ),   xaxis=dict(\n",
    "        title='Cluster',\n",
    "    ))\n",
    "fig.show()"
   ]
  },
  {
   "cell_type": "markdown",
   "metadata": {},
   "source": [
    "Each feature has different contributions on each class.\n",
    "\n",
    "Ex: Power to cool Ratio has a huge impact on class 0 (blue), whereas much smaller for class 7 (green)"
   ]
  },
  {
   "cell_type": "code",
   "execution_count": null,
   "metadata": {
    "scrolled": false
   },
   "outputs": [],
   "source": [
    "## Show feature importance for each instance/observation by class\n",
    "for i in range(len_cluster):\n",
    "    f = shap.summary_plot(shap_values[i], X_valid, max_display = len(feature_cols), show=False, plot_type = \"dot\")\n",
    "    print(\"cluster\", i)\n",
    "    plt.show(f)\n",
    "    print(\"\\n\")"
   ]
  },
  {
   "cell_type": "code",
   "execution_count": null,
   "metadata": {},
   "outputs": [],
   "source": []
  }
 ],
 "metadata": {
  "hide_input": false,
  "kernelspec": {
   "display_name": "Python 3",
   "language": "python",
   "name": "python3"
  },
  "language_info": {
   "codemirror_mode": {
    "name": "ipython",
    "version": 3
   },
   "file_extension": ".py",
   "mimetype": "text/x-python",
   "name": "python",
   "nbconvert_exporter": "python",
   "pygments_lexer": "ipython3",
   "version": "3.7.6"
  },
  "toc": {
   "base_numbering": 1,
   "nav_menu": {},
   "number_sections": true,
   "sideBar": true,
   "skip_h1_title": false,
   "title_cell": "Table of Contents",
   "title_sidebar": "Contents",
   "toc_cell": false,
   "toc_position": {
    "height": "calc(100% - 180px)",
    "left": "10px",
    "top": "150px",
    "width": "282px"
   },
   "toc_section_display": true,
   "toc_window_display": false
  }
 },
 "nbformat": 4,
 "nbformat_minor": 2
}
