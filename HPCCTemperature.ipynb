{
 "cells": [
  {
   "cell_type": "code",
   "execution_count": 2,
   "metadata": {},
   "outputs": [
    {
     "name": "stdout",
     "output_type": "stream",
     "text": [
      "Collecting imbalanced-learn\n",
      "  Using cached https://files.pythonhosted.org/packages/eb/aa/eba717a14df36f0b6f000ebfaf24c3189cd7987130f66cc3513efead8c2a/imbalanced_learn-0.6.1-py3-none-any.whl\n",
      "Requirement already satisfied, skipping upgrade: scikit-learn>=0.22 in c:\\programdata\\anaconda3\\lib\\site-packages (from imbalanced-learn) (0.22.1)\n",
      "Requirement already satisfied, skipping upgrade: numpy>=1.11 in c:\\programdata\\anaconda3\\lib\\site-packages (from imbalanced-learn) (1.16.5)\n",
      "Requirement already satisfied, skipping upgrade: joblib>=0.11 in c:\\programdata\\anaconda3\\lib\\site-packages (from imbalanced-learn) (0.14.1)\n",
      "Requirement already satisfied, skipping upgrade: scipy>=0.17 in c:\\programdata\\anaconda3\\lib\\site-packages (from imbalanced-learn) (1.4.1)\n",
      "Installing collected packages: imbalanced-learn\n",
      "Successfully installed imbalanced-learn-0.6.1\n"
     ]
    }
   ],
   "source": [
    "!pip install -U imbalanced-learn"
   ]
  },
  {
   "cell_type": "code",
   "execution_count": 3,
   "metadata": {
    "_cell_guid": "b1076dfc-b9ad-4769-8c92-a6c4dae69d19",
    "_uuid": "8f2839f25d086af736a60e9eeb907d3b93b6e0e5"
   },
   "outputs": [
    {
     "data": {
      "text/html": [
       "<style>.container { width:80% !important; }</style>"
      ],
      "text/plain": [
       "<IPython.core.display.HTML object>"
      ]
     },
     "metadata": {},
     "output_type": "display_data"
    }
   ],
   "source": [
    "import numpy as np # linear algebra\n",
    "import pandas as pd # data processing, CSV file I/O (e.g. pd.read_csv)\n",
    "import os\n",
    "from sklearn.metrics import precision_recall_curve\n",
    "from collections import Counter\n",
    "# from tqdm import tqdm_notebook as tqdm\n",
    "# tqdm().pandas()\n",
    "import json\n",
    "import pickle\n",
    "from keras.callbacks import ModelCheckpoint\n",
    "from keras.callbacks import EarlyStopping\n",
    "from keras.models import load_model\n",
    "from sklearn.model_selection import StratifiedKFold\n",
    "from keras.models import load_model\n",
    "from sklearn.metrics import log_loss\n",
    "from keras import regularizers\n",
    "from keras.models import Sequential\n",
    "from keras.layers import LSTM\n",
    "from keras.layers import Dense\n",
    "from keras.layers import Activation\n",
    "from keras.layers import Dropout\n",
    "from keras.layers import Flatten\n",
    "import tensorflow as tf\n",
    "import random\n",
    "import os\n",
    "from imblearn.over_sampling import SMOTE\n",
    "\n",
    "from keras import backend as K\n",
    "from IPython.core.display import display, HTML\n",
    "display(HTML(\"<style>.container { width:80% !important; }</style>\"))"
   ]
  },
  {
   "cell_type": "markdown",
   "metadata": {},
   "source": [
    "# Read data"
   ]
  },
  {
   "cell_type": "code",
   "execution_count": null,
   "metadata": {
    "_cell_guid": "79c7e3d0-c299-4dcb-8224-4455121ee9b0",
    "_uuid": "d629ff2d2480ee46fbb7e2d37f6b5fab8052498a"
   },
   "outputs": [],
   "source": [
    "with open(\"./data/service1906_1506.json\") as of:\n",
    "    data = json.load(of)"
   ]
  },
  {
   "cell_type": "code",
   "execution_count": null,
   "metadata": {},
   "outputs": [],
   "source": [
    "computes = [c for c in data.keys() if c!=\"timespan\"]\n",
    "variables = [v for v in data[computes[0]] if v!='index' and v!='arrJob_scheduling']"
   ]
  },
  {
   "cell_type": "code",
   "execution_count": 4,
   "metadata": {},
   "outputs": [
    {
     "name": "stdout",
     "output_type": "stream",
     "text": [
      "c= compute-1-26\n",
      "v= arrTemperature\n"
     ]
    }
   ],
   "source": [
    "#Check empty array\n",
    "def getEmptyArr(data, c):\n",
    "    cObj = data[c]\n",
    "    cDf = pd.DataFrame()\n",
    "    cDf['compute'] = [c for _ in data['timespan']]\n",
    "    cDf['timespan'] = data['timespan']\n",
    "    for v in variables:\n",
    "        vArr = np.array(cObj[v])\n",
    "        if len(vArr)==0:\n",
    "            print('c=', c)\n",
    "            print('v=', v)\n",
    "for c in computes:\n",
    "    getEmptyArr(data, c)"
   ]
  },
  {
   "cell_type": "code",
   "execution_count": 5,
   "metadata": {},
   "outputs": [],
   "source": [
    "def addTarget(cDf, predictedVar, predictedStep):\n",
    "    cDf[target] = cDf[predictedVar].shift(-predictedStep)\n",
    "    cDf.dropna(inplace=True)"
   ]
  },
  {
   "cell_type": "code",
   "execution_count": 6,
   "metadata": {},
   "outputs": [],
   "source": [
    "def getComputeDf(data, c, predictedVar, predictedStep):\n",
    "    cObj = data[c]\n",
    "    cDf = pd.DataFrame()\n",
    "    cDf['compute'] = [c for _ in data['timespan']]\n",
    "    cDf['timespan'] = data['timespan']\n",
    "    for v in variables:\n",
    "        vArr = np.array(cObj[v])\n",
    "        if len(vArr)==0:\n",
    "            return None\n",
    "        else:\n",
    "            for i in range(len(vArr[0])):\n",
    "                cDf[v+str(i)] = vArr[:, i]\n",
    "    cDf['timespan'] = pd.to_datetime(cDf['timespan'])\n",
    "    addTarget(cDf, predictedVar, predictedStep)\n",
    "    return cDf"
   ]
  },
  {
   "cell_type": "code",
   "execution_count": 7,
   "metadata": {},
   "outputs": [],
   "source": [
    "predictedVar = 'arrTemperature0'\n",
    "target = predictedVar + \"_target\"\n",
    "predictedSteps = 12\n",
    "df = pd.concat([x for x in [getComputeDf(data, c, predictedVar, predictedSteps) for c in computes] if type(x)!=\"NoneType\"])"
   ]
  },
  {
   "cell_type": "code",
   "execution_count": 8,
   "metadata": {},
   "outputs": [],
   "source": [
    "df = df.reset_index().drop('index', axis=1)"
   ]
  },
  {
   "cell_type": "code",
   "execution_count": null,
   "metadata": {},
   "outputs": [],
   "source": [
    "df.head(10)"
   ]
  },
  {
   "cell_type": "code",
   "execution_count": 9,
   "metadata": {},
   "outputs": [],
   "source": [
    "features = [x for x in df.columns if x not in ['compute', 'timespan', 'arrTemperature0_target']]"
   ]
  },
  {
   "cell_type": "markdown",
   "metadata": {},
   "source": [
    "# Plot and see data distribution"
   ]
  },
  {
   "cell_type": "code",
   "execution_count": 5,
   "metadata": {},
   "outputs": [],
   "source": [
    "from matplotlib import pyplot as plt\n",
    "import seaborn as sns"
   ]
  },
  {
   "cell_type": "code",
   "execution_count": 6,
   "metadata": {},
   "outputs": [],
   "source": [
    "def plotAttrDataOfId(data, compute, features):\n",
    "    plt.figure(figsize=(30, 20))\n",
    "#     for i, v in enumerate(features):\n",
    "    for i, v in enumerate(features[0:1]):\n",
    "        plt.subplot(10, 3, i+1)\n",
    "        cDf = df[df['compute']==compute]\n",
    "        plt.plot(cDf['timespan'], cDf[v])\n",
    "        plt.title(v)\n",
    "        plt.tight_layout()"
   ]
  },
  {
   "cell_type": "code",
   "execution_count": null,
   "metadata": {},
   "outputs": [],
   "source": [
    "len(computes)"
   ]
  },
  {
   "cell_type": "code",
   "execution_count": null,
   "metadata": {},
   "outputs": [],
   "source": [
    "df[df['compute']== 'compute-1-10'].timespan.min()"
   ]
  },
  {
   "cell_type": "code",
   "execution_count": null,
   "metadata": {},
   "outputs": [],
   "source": [
    "df[df['compute']== 'compute-1-10'].timespan.max()"
   ]
  },
  {
   "cell_type": "code",
   "execution_count": 12,
   "metadata": {},
   "outputs": [
    {
     "data": {
      "text/html": [
       "<div>\n",
       "<style scoped>\n",
       "    .dataframe tbody tr th:only-of-type {\n",
       "        vertical-align: middle;\n",
       "    }\n",
       "\n",
       "    .dataframe tbody tr th {\n",
       "        vertical-align: top;\n",
       "    }\n",
       "\n",
       "    .dataframe thead th {\n",
       "        text-align: right;\n",
       "    }\n",
       "</style>\n",
       "<table border=\"1\" class=\"dataframe\">\n",
       "  <thead>\n",
       "    <tr style=\"text-align: right;\">\n",
       "      <th></th>\n",
       "      <th>timespan</th>\n",
       "      <th>arrTemperature0</th>\n",
       "      <th>arrTemperature0</th>\n",
       "      <th>arrTemperature0</th>\n",
       "      <th>arrTemperature0</th>\n",
       "      <th>arrTemperature0</th>\n",
       "      <th>arrTemperature0</th>\n",
       "      <th>arrTemperature0</th>\n",
       "      <th>arrTemperature0</th>\n",
       "      <th>arrTemperature0</th>\n",
       "      <th>...</th>\n",
       "      <th>arrTemperature0</th>\n",
       "      <th>arrTemperature0</th>\n",
       "      <th>arrTemperature0</th>\n",
       "      <th>arrTemperature0</th>\n",
       "      <th>arrTemperature0</th>\n",
       "      <th>arrTemperature0</th>\n",
       "      <th>arrTemperature0</th>\n",
       "      <th>arrTemperature0</th>\n",
       "      <th>arrTemperature0</th>\n",
       "      <th>arrTemperature0</th>\n",
       "    </tr>\n",
       "  </thead>\n",
       "  <tbody>\n",
       "    <tr>\n",
       "      <td>0</td>\n",
       "      <td>2019-06-09 00:00:00+00:00</td>\n",
       "      <td>73</td>\n",
       "      <td>42</td>\n",
       "      <td>49</td>\n",
       "      <td>58</td>\n",
       "      <td>38</td>\n",
       "      <td>44</td>\n",
       "      <td>46</td>\n",
       "      <td>48</td>\n",
       "      <td>82</td>\n",
       "      <td>...</td>\n",
       "      <td>78</td>\n",
       "      <td>86</td>\n",
       "      <td>42</td>\n",
       "      <td>41</td>\n",
       "      <td>85</td>\n",
       "      <td>73</td>\n",
       "      <td>81</td>\n",
       "      <td>65</td>\n",
       "      <td>86</td>\n",
       "      <td>38</td>\n",
       "    </tr>\n",
       "    <tr>\n",
       "      <td>1</td>\n",
       "      <td>2019-06-09 00:05:00+00:00</td>\n",
       "      <td>73</td>\n",
       "      <td>42</td>\n",
       "      <td>49</td>\n",
       "      <td>58</td>\n",
       "      <td>38</td>\n",
       "      <td>44</td>\n",
       "      <td>46</td>\n",
       "      <td>48</td>\n",
       "      <td>82</td>\n",
       "      <td>...</td>\n",
       "      <td>79</td>\n",
       "      <td>86</td>\n",
       "      <td>42</td>\n",
       "      <td>41</td>\n",
       "      <td>85</td>\n",
       "      <td>72</td>\n",
       "      <td>80</td>\n",
       "      <td>65</td>\n",
       "      <td>85</td>\n",
       "      <td>38</td>\n",
       "    </tr>\n",
       "    <tr>\n",
       "      <td>2</td>\n",
       "      <td>2019-06-09 00:10:00+00:00</td>\n",
       "      <td>73</td>\n",
       "      <td>42</td>\n",
       "      <td>49</td>\n",
       "      <td>58</td>\n",
       "      <td>38</td>\n",
       "      <td>44</td>\n",
       "      <td>46</td>\n",
       "      <td>48</td>\n",
       "      <td>82</td>\n",
       "      <td>...</td>\n",
       "      <td>79</td>\n",
       "      <td>86</td>\n",
       "      <td>42</td>\n",
       "      <td>41</td>\n",
       "      <td>84</td>\n",
       "      <td>72</td>\n",
       "      <td>81</td>\n",
       "      <td>65</td>\n",
       "      <td>86</td>\n",
       "      <td>38</td>\n",
       "    </tr>\n",
       "    <tr>\n",
       "      <td>3</td>\n",
       "      <td>2019-06-09 00:15:00+00:00</td>\n",
       "      <td>73</td>\n",
       "      <td>42</td>\n",
       "      <td>49</td>\n",
       "      <td>58</td>\n",
       "      <td>38</td>\n",
       "      <td>44</td>\n",
       "      <td>46</td>\n",
       "      <td>48</td>\n",
       "      <td>81</td>\n",
       "      <td>...</td>\n",
       "      <td>78</td>\n",
       "      <td>86</td>\n",
       "      <td>41</td>\n",
       "      <td>41</td>\n",
       "      <td>84</td>\n",
       "      <td>73</td>\n",
       "      <td>81</td>\n",
       "      <td>66</td>\n",
       "      <td>87</td>\n",
       "      <td>38</td>\n",
       "    </tr>\n",
       "    <tr>\n",
       "      <td>4</td>\n",
       "      <td>2019-06-09 00:20:00+00:00</td>\n",
       "      <td>73</td>\n",
       "      <td>42</td>\n",
       "      <td>49</td>\n",
       "      <td>58</td>\n",
       "      <td>38</td>\n",
       "      <td>44</td>\n",
       "      <td>46</td>\n",
       "      <td>47</td>\n",
       "      <td>82</td>\n",
       "      <td>...</td>\n",
       "      <td>79</td>\n",
       "      <td>86</td>\n",
       "      <td>42</td>\n",
       "      <td>41</td>\n",
       "      <td>85</td>\n",
       "      <td>73</td>\n",
       "      <td>82</td>\n",
       "      <td>65</td>\n",
       "      <td>86</td>\n",
       "      <td>38</td>\n",
       "    </tr>\n",
       "    <tr>\n",
       "      <td>...</td>\n",
       "      <td>...</td>\n",
       "      <td>...</td>\n",
       "      <td>...</td>\n",
       "      <td>...</td>\n",
       "      <td>...</td>\n",
       "      <td>...</td>\n",
       "      <td>...</td>\n",
       "      <td>...</td>\n",
       "      <td>...</td>\n",
       "      <td>...</td>\n",
       "      <td>...</td>\n",
       "      <td>...</td>\n",
       "      <td>...</td>\n",
       "      <td>...</td>\n",
       "      <td>...</td>\n",
       "      <td>...</td>\n",
       "      <td>...</td>\n",
       "      <td>...</td>\n",
       "      <td>...</td>\n",
       "      <td>...</td>\n",
       "      <td>...</td>\n",
       "    </tr>\n",
       "    <tr>\n",
       "      <td>1999</td>\n",
       "      <td>2019-06-15 22:35:00+00:00</td>\n",
       "      <td>42</td>\n",
       "      <td>54</td>\n",
       "      <td>64</td>\n",
       "      <td>86</td>\n",
       "      <td>58</td>\n",
       "      <td>74</td>\n",
       "      <td>47</td>\n",
       "      <td>40</td>\n",
       "      <td>48</td>\n",
       "      <td>...</td>\n",
       "      <td>40</td>\n",
       "      <td>44</td>\n",
       "      <td>48</td>\n",
       "      <td>49</td>\n",
       "      <td>64</td>\n",
       "      <td>57</td>\n",
       "      <td>51</td>\n",
       "      <td>52</td>\n",
       "      <td>61</td>\n",
       "      <td>50</td>\n",
       "    </tr>\n",
       "    <tr>\n",
       "      <td>2000</td>\n",
       "      <td>2019-06-15 22:40:00+00:00</td>\n",
       "      <td>42</td>\n",
       "      <td>55</td>\n",
       "      <td>64</td>\n",
       "      <td>86</td>\n",
       "      <td>59</td>\n",
       "      <td>75</td>\n",
       "      <td>47</td>\n",
       "      <td>40</td>\n",
       "      <td>48</td>\n",
       "      <td>...</td>\n",
       "      <td>41</td>\n",
       "      <td>44</td>\n",
       "      <td>48</td>\n",
       "      <td>49</td>\n",
       "      <td>64</td>\n",
       "      <td>57</td>\n",
       "      <td>50</td>\n",
       "      <td>52</td>\n",
       "      <td>61</td>\n",
       "      <td>50</td>\n",
       "    </tr>\n",
       "    <tr>\n",
       "      <td>2001</td>\n",
       "      <td>2019-06-15 22:45:00+00:00</td>\n",
       "      <td>42</td>\n",
       "      <td>54</td>\n",
       "      <td>64</td>\n",
       "      <td>86</td>\n",
       "      <td>58</td>\n",
       "      <td>76</td>\n",
       "      <td>47</td>\n",
       "      <td>40</td>\n",
       "      <td>48</td>\n",
       "      <td>...</td>\n",
       "      <td>41</td>\n",
       "      <td>44</td>\n",
       "      <td>48</td>\n",
       "      <td>49</td>\n",
       "      <td>64</td>\n",
       "      <td>58</td>\n",
       "      <td>50</td>\n",
       "      <td>52</td>\n",
       "      <td>61</td>\n",
       "      <td>50</td>\n",
       "    </tr>\n",
       "    <tr>\n",
       "      <td>2002</td>\n",
       "      <td>2019-06-15 22:50:00+00:00</td>\n",
       "      <td>42</td>\n",
       "      <td>55</td>\n",
       "      <td>64</td>\n",
       "      <td>86</td>\n",
       "      <td>59</td>\n",
       "      <td>76</td>\n",
       "      <td>47</td>\n",
       "      <td>40</td>\n",
       "      <td>48</td>\n",
       "      <td>...</td>\n",
       "      <td>40</td>\n",
       "      <td>44</td>\n",
       "      <td>48</td>\n",
       "      <td>48</td>\n",
       "      <td>64</td>\n",
       "      <td>57</td>\n",
       "      <td>50</td>\n",
       "      <td>52</td>\n",
       "      <td>61</td>\n",
       "      <td>50</td>\n",
       "    </tr>\n",
       "    <tr>\n",
       "      <td>2003</td>\n",
       "      <td>2019-06-15 22:55:00+00:00</td>\n",
       "      <td>42</td>\n",
       "      <td>55</td>\n",
       "      <td>63</td>\n",
       "      <td>86</td>\n",
       "      <td>58</td>\n",
       "      <td>76</td>\n",
       "      <td>47</td>\n",
       "      <td>40</td>\n",
       "      <td>48</td>\n",
       "      <td>...</td>\n",
       "      <td>40</td>\n",
       "      <td>44</td>\n",
       "      <td>48</td>\n",
       "      <td>49</td>\n",
       "      <td>64</td>\n",
       "      <td>58</td>\n",
       "      <td>50</td>\n",
       "      <td>52</td>\n",
       "      <td>61</td>\n",
       "      <td>50</td>\n",
       "    </tr>\n",
       "  </tbody>\n",
       "</table>\n",
       "<p>2004 rows × 468 columns</p>\n",
       "</div>"
      ],
      "text/plain": [
       "                      timespan arrTemperature0 arrTemperature0  \\\n",
       "0    2019-06-09 00:00:00+00:00              73              42   \n",
       "1    2019-06-09 00:05:00+00:00              73              42   \n",
       "2    2019-06-09 00:10:00+00:00              73              42   \n",
       "3    2019-06-09 00:15:00+00:00              73              42   \n",
       "4    2019-06-09 00:20:00+00:00              73              42   \n",
       "...                        ...             ...             ...   \n",
       "1999 2019-06-15 22:35:00+00:00              42              54   \n",
       "2000 2019-06-15 22:40:00+00:00              42              55   \n",
       "2001 2019-06-15 22:45:00+00:00              42              54   \n",
       "2002 2019-06-15 22:50:00+00:00              42              55   \n",
       "2003 2019-06-15 22:55:00+00:00              42              55   \n",
       "\n",
       "     arrTemperature0 arrTemperature0 arrTemperature0 arrTemperature0  \\\n",
       "0                 49              58              38              44   \n",
       "1                 49              58              38              44   \n",
       "2                 49              58              38              44   \n",
       "3                 49              58              38              44   \n",
       "4                 49              58              38              44   \n",
       "...              ...             ...             ...             ...   \n",
       "1999              64              86              58              74   \n",
       "2000              64              86              59              75   \n",
       "2001              64              86              58              76   \n",
       "2002              64              86              59              76   \n",
       "2003              63              86              58              76   \n",
       "\n",
       "     arrTemperature0 arrTemperature0 arrTemperature0  ... arrTemperature0  \\\n",
       "0                 46              48              82  ...              78   \n",
       "1                 46              48              82  ...              79   \n",
       "2                 46              48              82  ...              79   \n",
       "3                 46              48              81  ...              78   \n",
       "4                 46              47              82  ...              79   \n",
       "...              ...             ...             ...  ...             ...   \n",
       "1999              47              40              48  ...              40   \n",
       "2000              47              40              48  ...              41   \n",
       "2001              47              40              48  ...              41   \n",
       "2002              47              40              48  ...              40   \n",
       "2003              47              40              48  ...              40   \n",
       "\n",
       "     arrTemperature0 arrTemperature0 arrTemperature0 arrTemperature0  \\\n",
       "0                 86              42              41              85   \n",
       "1                 86              42              41              85   \n",
       "2                 86              42              41              84   \n",
       "3                 86              41              41              84   \n",
       "4                 86              42              41              85   \n",
       "...              ...             ...             ...             ...   \n",
       "1999              44              48              49              64   \n",
       "2000              44              48              49              64   \n",
       "2001              44              48              49              64   \n",
       "2002              44              48              48              64   \n",
       "2003              44              48              49              64   \n",
       "\n",
       "     arrTemperature0 arrTemperature0 arrTemperature0 arrTemperature0  \\\n",
       "0                 73              81              65              86   \n",
       "1                 72              80              65              85   \n",
       "2                 72              81              65              86   \n",
       "3                 73              81              66              87   \n",
       "4                 73              82              65              86   \n",
       "...              ...             ...             ...             ...   \n",
       "1999              57              51              52              61   \n",
       "2000              57              50              52              61   \n",
       "2001              58              50              52              61   \n",
       "2002              57              50              52              61   \n",
       "2003              58              50              52              61   \n",
       "\n",
       "     arrTemperature0  \n",
       "0                 38  \n",
       "1                 38  \n",
       "2                 38  \n",
       "3                 38  \n",
       "4                 38  \n",
       "...              ...  \n",
       "1999              50  \n",
       "2000              50  \n",
       "2001              50  \n",
       "2002              50  \n",
       "2003              50  \n",
       "\n",
       "[2004 rows x 468 columns]"
      ]
     },
     "execution_count": 12,
     "metadata": {},
     "output_type": "execute_result"
    }
   ],
   "source": [
    "computes_df_list = [df[df['compute']== x].arrTemperature0.reset_index(drop=True) for x in computes]\n",
    "time= df[df['compute']== computes[0]].timespan\n",
    "computes_df = pd.concat([time, *computes_df_list], axis=1)\n",
    "computes_df"
   ]
  },
  {
   "cell_type": "code",
   "execution_count": 13,
   "metadata": {},
   "outputs": [],
   "source": [
    "computes_df.columns = [\"time_span\"] + [\"arrTemperature0_\" + str(i) for i in range(1, len(computes_df.columns ))]"
   ]
  },
  {
   "cell_type": "code",
   "execution_count": 19,
   "metadata": {},
   "outputs": [],
   "source": [
    "computes_df.to_csv(\"computes_df.csv\" , index=False)"
   ]
  },
  {
   "cell_type": "code",
   "execution_count": 20,
   "metadata": {},
   "outputs": [
    {
     "data": {
      "text/plain": [
       "(2012, 468)"
      ]
     },
     "execution_count": 20,
     "metadata": {},
     "output_type": "execute_result"
    }
   ],
   "source": [
    "computes_df.shape"
   ]
  },
  {
   "cell_type": "code",
   "execution_count": 14,
   "metadata": {},
   "outputs": [
    {
     "data": {
      "text/html": [
       "<div>\n",
       "<style scoped>\n",
       "    .dataframe tbody tr th:only-of-type {\n",
       "        vertical-align: middle;\n",
       "    }\n",
       "\n",
       "    .dataframe tbody tr th {\n",
       "        vertical-align: top;\n",
       "    }\n",
       "\n",
       "    .dataframe thead th {\n",
       "        text-align: right;\n",
       "    }\n",
       "</style>\n",
       "<table border=\"1\" class=\"dataframe\">\n",
       "  <thead>\n",
       "    <tr style=\"text-align: right;\">\n",
       "      <th></th>\n",
       "      <th>arrTemperature0_30</th>\n",
       "      <th>arrTemperature0_60</th>\n",
       "      <th>arrTemperature0_90</th>\n",
       "      <th>arrTemperature0_120</th>\n",
       "      <th>arrTemperature0_150</th>\n",
       "      <th>arrTemperature0_180</th>\n",
       "      <th>arrTemperature0_210</th>\n",
       "      <th>arrTemperature0_240</th>\n",
       "      <th>arrTemperature0_270</th>\n",
       "      <th>arrTemperature0_300</th>\n",
       "      <th>arrTemperature0_330</th>\n",
       "      <th>arrTemperature0_360</th>\n",
       "      <th>arrTemperature0_390</th>\n",
       "      <th>arrTemperature0_420</th>\n",
       "      <th>arrTemperature0_450</th>\n",
       "    </tr>\n",
       "  </thead>\n",
       "  <tbody>\n",
       "    <tr>\n",
       "      <td>0</td>\n",
       "      <td>39</td>\n",
       "      <td>42</td>\n",
       "      <td>73</td>\n",
       "      <td>32</td>\n",
       "      <td>65</td>\n",
       "      <td>38</td>\n",
       "      <td>36</td>\n",
       "      <td>34</td>\n",
       "      <td>77</td>\n",
       "      <td>74</td>\n",
       "      <td>40</td>\n",
       "      <td>41</td>\n",
       "      <td>48</td>\n",
       "      <td>48</td>\n",
       "      <td>58</td>\n",
       "    </tr>\n",
       "    <tr>\n",
       "      <td>1</td>\n",
       "      <td>39</td>\n",
       "      <td>42</td>\n",
       "      <td>72</td>\n",
       "      <td>32</td>\n",
       "      <td>65</td>\n",
       "      <td>38</td>\n",
       "      <td>35</td>\n",
       "      <td>34</td>\n",
       "      <td>75</td>\n",
       "      <td>74</td>\n",
       "      <td>40</td>\n",
       "      <td>41</td>\n",
       "      <td>48</td>\n",
       "      <td>48</td>\n",
       "      <td>58</td>\n",
       "    </tr>\n",
       "    <tr>\n",
       "      <td>2</td>\n",
       "      <td>39</td>\n",
       "      <td>42</td>\n",
       "      <td>73</td>\n",
       "      <td>32</td>\n",
       "      <td>65</td>\n",
       "      <td>38</td>\n",
       "      <td>35</td>\n",
       "      <td>35</td>\n",
       "      <td>76</td>\n",
       "      <td>75</td>\n",
       "      <td>40</td>\n",
       "      <td>41</td>\n",
       "      <td>48</td>\n",
       "      <td>48</td>\n",
       "      <td>61</td>\n",
       "    </tr>\n",
       "    <tr>\n",
       "      <td>3</td>\n",
       "      <td>39</td>\n",
       "      <td>42</td>\n",
       "      <td>72</td>\n",
       "      <td>32</td>\n",
       "      <td>65</td>\n",
       "      <td>38</td>\n",
       "      <td>35</td>\n",
       "      <td>35</td>\n",
       "      <td>77</td>\n",
       "      <td>74</td>\n",
       "      <td>40</td>\n",
       "      <td>41</td>\n",
       "      <td>48</td>\n",
       "      <td>48</td>\n",
       "      <td>59</td>\n",
       "    </tr>\n",
       "    <tr>\n",
       "      <td>4</td>\n",
       "      <td>39</td>\n",
       "      <td>42</td>\n",
       "      <td>73</td>\n",
       "      <td>32</td>\n",
       "      <td>65</td>\n",
       "      <td>38</td>\n",
       "      <td>35</td>\n",
       "      <td>35</td>\n",
       "      <td>75</td>\n",
       "      <td>74</td>\n",
       "      <td>40</td>\n",
       "      <td>41</td>\n",
       "      <td>48</td>\n",
       "      <td>48</td>\n",
       "      <td>58</td>\n",
       "    </tr>\n",
       "  </tbody>\n",
       "</table>\n",
       "</div>"
      ],
      "text/plain": [
       "  arrTemperature0_30 arrTemperature0_60 arrTemperature0_90  \\\n",
       "0                 39                 42                 73   \n",
       "1                 39                 42                 72   \n",
       "2                 39                 42                 73   \n",
       "3                 39                 42                 72   \n",
       "4                 39                 42                 73   \n",
       "\n",
       "  arrTemperature0_120 arrTemperature0_150 arrTemperature0_180  \\\n",
       "0                  32                  65                  38   \n",
       "1                  32                  65                  38   \n",
       "2                  32                  65                  38   \n",
       "3                  32                  65                  38   \n",
       "4                  32                  65                  38   \n",
       "\n",
       "  arrTemperature0_210 arrTemperature0_240 arrTemperature0_270  \\\n",
       "0                  36                  34                  77   \n",
       "1                  35                  34                  75   \n",
       "2                  35                  35                  76   \n",
       "3                  35                  35                  77   \n",
       "4                  35                  35                  75   \n",
       "\n",
       "  arrTemperature0_300 arrTemperature0_330 arrTemperature0_360  \\\n",
       "0                  74                  40                  41   \n",
       "1                  74                  40                  41   \n",
       "2                  75                  40                  41   \n",
       "3                  74                  40                  41   \n",
       "4                  74                  40                  41   \n",
       "\n",
       "  arrTemperature0_390 arrTemperature0_420 arrTemperature0_450  \n",
       "0                  48                  48                  58  \n",
       "1                  48                  48                  58  \n",
       "2                  48                  48                  61  \n",
       "3                  48                  48                  59  \n",
       "4                  48                  48                  58  "
      ]
     },
     "execution_count": 14,
     "metadata": {},
     "output_type": "execute_result"
    }
   ],
   "source": [
    "computes_df_some = computes_df[[\"arrTemperature0_\" + str(i) for i in range(1, len(computes_df.columns )) if i%30 == 0]]\n",
    "computes_df_some.head()"
   ]
  },
  {
   "cell_type": "code",
   "execution_count": 22,
   "metadata": {},
   "outputs": [],
   "source": [
    "# from pandas_profiling import ProfileReport\n",
    "# profile = ProfileReport(computes_df_some, title='Pandas Profiling Report', html={'style':{'full_width':True}})\n",
    "# profile.to_file(output_file=\"your_report.html\")\n"
   ]
  },
  {
   "cell_type": "code",
   "execution_count": 23,
   "metadata": {},
   "outputs": [
    {
     "data": {
      "image/png": "[encoded data removed]",
      "text/plain": [
       "<Figure size 2160x720 with 10 Axes>"
      ]
     },
     "metadata": {
      "needs_background": "light"
     },
     "output_type": "display_data"
    }
   ],
   "source": [
    "def plotDataDistribution(data, features):\n",
    "    plt.figure(figsize=(30, 10))\n",
    "    for i, v in enumerate(features):\n",
    "        plt.subplot(3, 10, i+1)\n",
    "        sns.distplot(list(data[v].values))\n",
    "        plt.title(v)\n",
    "    plt.tight_layout()\n",
    "    \n",
    "plotDataDistribution(df, features)"
   ]
  },
  {
   "cell_type": "markdown",
   "metadata": {},
   "source": [
    "# Generate sequences\n",
    "May need to fill forward (time sampling)"
   ]
  },
  {
   "cell_type": "code",
   "execution_count": 16,
   "metadata": {},
   "outputs": [],
   "source": [
    "X_dfs_train = []\n",
    "y_raw_train = []\n",
    "\n",
    "\n",
    "X_dfs_test = []\n",
    "y_raw_test = []\n",
    "\n",
    "test_size = 0.2\n",
    "sequenceSteps = 12\n",
    "\n",
    "label = 'arrTemperature0'\n",
    "\n",
    "for compute in (computes):\n",
    "    cDf = df[df['compute']==compute].drop(columns=target)\n",
    "    if(len(cDf) > sequenceSteps):\n",
    "        for step_i in range(0, len(cDf) - sequenceSteps):\n",
    "            \n",
    "            if step_i < len(cDf)*(1-test_size):\n",
    "                X_dfs_train.append(cDf.iloc[step_i:step_i+sequenceSteps])\n",
    "                y_raw_train.append(cDf.iloc[step_i+sequenceSteps][label] - cDf.iloc[step_i+sequenceSteps-1][label])\n",
    "            else:\n",
    "                X_dfs_test.append(cDf.iloc[step_i:step_i+sequenceSteps])\n",
    "                y_raw_test.append(cDf.iloc[step_i+sequenceSteps][label] - cDf.iloc[step_i+sequenceSteps-1][label])"
   ]
  },
  {
   "cell_type": "code",
   "execution_count": 18,
   "metadata": {},
   "outputs": [
    {
     "data": {
      "text/html": [
       "<div>\n",
       "<style scoped>\n",
       "    .dataframe tbody tr th:only-of-type {\n",
       "        vertical-align: middle;\n",
       "    }\n",
       "\n",
       "    .dataframe tbody tr th {\n",
       "        vertical-align: top;\n",
       "    }\n",
       "\n",
       "    .dataframe thead th {\n",
       "        text-align: right;\n",
       "    }\n",
       "</style>\n",
       "<table border=\"1\" class=\"dataframe\">\n",
       "  <thead>\n",
       "    <tr style=\"text-align: right;\">\n",
       "      <th></th>\n",
       "      <th>compute</th>\n",
       "      <th>timespan</th>\n",
       "      <th>arrTemperature0</th>\n",
       "      <th>arrTemperature1</th>\n",
       "      <th>arrTemperature2</th>\n",
       "      <th>arrCPU_load0</th>\n",
       "      <th>arrMemory_usage0</th>\n",
       "      <th>arrFans_health0</th>\n",
       "      <th>arrFans_health1</th>\n",
       "      <th>arrFans_health2</th>\n",
       "      <th>arrFans_health3</th>\n",
       "      <th>arrPower_usage0</th>\n",
       "    </tr>\n",
       "  </thead>\n",
       "  <tbody>\n",
       "    <tr>\n",
       "      <td>249</td>\n",
       "      <td>compute-1-1</td>\n",
       "      <td>2019-06-09 20:45:00+00:00</td>\n",
       "      <td>73</td>\n",
       "      <td>59</td>\n",
       "      <td>20</td>\n",
       "      <td>5.30833</td>\n",
       "      <td>9.83492</td>\n",
       "      <td>8750</td>\n",
       "      <td>8890</td>\n",
       "      <td>8890</td>\n",
       "      <td>8890</td>\n",
       "      <td>105</td>\n",
       "    </tr>\n",
       "    <tr>\n",
       "      <td>250</td>\n",
       "      <td>compute-1-1</td>\n",
       "      <td>2019-06-09 20:50:00+00:00</td>\n",
       "      <td>73</td>\n",
       "      <td>57</td>\n",
       "      <td>20</td>\n",
       "      <td>5.21528</td>\n",
       "      <td>9.84274</td>\n",
       "      <td>8890</td>\n",
       "      <td>8890</td>\n",
       "      <td>8890</td>\n",
       "      <td>8750</td>\n",
       "      <td>105</td>\n",
       "    </tr>\n",
       "    <tr>\n",
       "      <td>251</td>\n",
       "      <td>compute-1-1</td>\n",
       "      <td>2019-06-09 20:55:00+00:00</td>\n",
       "      <td>73</td>\n",
       "      <td>59</td>\n",
       "      <td>20</td>\n",
       "      <td>5.41333</td>\n",
       "      <td>9.86619</td>\n",
       "      <td>8890</td>\n",
       "      <td>8680</td>\n",
       "      <td>8890</td>\n",
       "      <td>8750</td>\n",
       "      <td>104.375</td>\n",
       "    </tr>\n",
       "    <tr>\n",
       "      <td>252</td>\n",
       "      <td>compute-1-1</td>\n",
       "      <td>2019-06-09 21:00:00+00:00</td>\n",
       "      <td>73</td>\n",
       "      <td>59</td>\n",
       "      <td>20</td>\n",
       "      <td>5.45319</td>\n",
       "      <td>9.79428</td>\n",
       "      <td>8750</td>\n",
       "      <td>8680</td>\n",
       "      <td>8750</td>\n",
       "      <td>8750</td>\n",
       "      <td>104.688</td>\n",
       "    </tr>\n",
       "    <tr>\n",
       "      <td>253</td>\n",
       "      <td>compute-1-1</td>\n",
       "      <td>2019-06-09 21:05:00+00:00</td>\n",
       "      <td>73</td>\n",
       "      <td>58</td>\n",
       "      <td>20</td>\n",
       "      <td>5.08056</td>\n",
       "      <td>9.87661</td>\n",
       "      <td>8750</td>\n",
       "      <td>8750</td>\n",
       "      <td>8750</td>\n",
       "      <td>8750</td>\n",
       "      <td>105.312</td>\n",
       "    </tr>\n",
       "    <tr>\n",
       "      <td>254</td>\n",
       "      <td>compute-1-1</td>\n",
       "      <td>2019-06-09 21:10:00+00:00</td>\n",
       "      <td>73</td>\n",
       "      <td>59</td>\n",
       "      <td>20</td>\n",
       "      <td>5.05028</td>\n",
       "      <td>9.87192</td>\n",
       "      <td>8890</td>\n",
       "      <td>8890</td>\n",
       "      <td>8890</td>\n",
       "      <td>8890</td>\n",
       "      <td>100.625</td>\n",
       "    </tr>\n",
       "    <tr>\n",
       "      <td>255</td>\n",
       "      <td>compute-1-1</td>\n",
       "      <td>2019-06-09 21:15:00+00:00</td>\n",
       "      <td>73</td>\n",
       "      <td>59</td>\n",
       "      <td>20</td>\n",
       "      <td>5.24917</td>\n",
       "      <td>9.83075</td>\n",
       "      <td>8750</td>\n",
       "      <td>8680</td>\n",
       "      <td>8750</td>\n",
       "      <td>8750</td>\n",
       "      <td>104.688</td>\n",
       "    </tr>\n",
       "    <tr>\n",
       "      <td>256</td>\n",
       "      <td>compute-1-1</td>\n",
       "      <td>2019-06-09 21:20:00+00:00</td>\n",
       "      <td>73</td>\n",
       "      <td>58</td>\n",
       "      <td>20</td>\n",
       "      <td>5.00278</td>\n",
       "      <td>9.88651</td>\n",
       "      <td>8890</td>\n",
       "      <td>8890</td>\n",
       "      <td>8750</td>\n",
       "      <td>8890</td>\n",
       "      <td>104.688</td>\n",
       "    </tr>\n",
       "    <tr>\n",
       "      <td>257</td>\n",
       "      <td>compute-1-1</td>\n",
       "      <td>2019-06-09 21:25:00+00:00</td>\n",
       "      <td>41</td>\n",
       "      <td>33</td>\n",
       "      <td>20</td>\n",
       "      <td>2.78792</td>\n",
       "      <td>2.10778</td>\n",
       "      <td>8890</td>\n",
       "      <td>8750</td>\n",
       "      <td>8890</td>\n",
       "      <td>8890</td>\n",
       "      <td>42.1875</td>\n",
       "    </tr>\n",
       "    <tr>\n",
       "      <td>258</td>\n",
       "      <td>compute-1-1</td>\n",
       "      <td>2019-06-09 21:30:00+00:00</td>\n",
       "      <td>39</td>\n",
       "      <td>32</td>\n",
       "      <td>20</td>\n",
       "      <td>1.09181</td>\n",
       "      <td>2.15416</td>\n",
       "      <td>8890</td>\n",
       "      <td>8890</td>\n",
       "      <td>8890</td>\n",
       "      <td>8890</td>\n",
       "      <td>40.9375</td>\n",
       "    </tr>\n",
       "    <tr>\n",
       "      <td>259</td>\n",
       "      <td>compute-1-1</td>\n",
       "      <td>2019-06-09 21:35:00+00:00</td>\n",
       "      <td>38</td>\n",
       "      <td>32</td>\n",
       "      <td>20</td>\n",
       "      <td>0.374028</td>\n",
       "      <td>2.14061</td>\n",
       "      <td>8890</td>\n",
       "      <td>8890</td>\n",
       "      <td>8890</td>\n",
       "      <td>8890</td>\n",
       "      <td>40.9375</td>\n",
       "    </tr>\n",
       "    <tr>\n",
       "      <td>260</td>\n",
       "      <td>compute-1-1</td>\n",
       "      <td>2019-06-09 21:40:00+00:00</td>\n",
       "      <td>39</td>\n",
       "      <td>32</td>\n",
       "      <td>20</td>\n",
       "      <td>0.144444</td>\n",
       "      <td>2.11455</td>\n",
       "      <td>8890</td>\n",
       "      <td>8960</td>\n",
       "      <td>8890</td>\n",
       "      <td>8890</td>\n",
       "      <td>41.25</td>\n",
       "    </tr>\n",
       "  </tbody>\n",
       "</table>\n",
       "</div>"
      ],
      "text/plain": [
       "         compute                  timespan arrTemperature0 arrTemperature1  \\\n",
       "249  compute-1-1 2019-06-09 20:45:00+00:00              73              59   \n",
       "250  compute-1-1 2019-06-09 20:50:00+00:00              73              57   \n",
       "251  compute-1-1 2019-06-09 20:55:00+00:00              73              59   \n",
       "252  compute-1-1 2019-06-09 21:00:00+00:00              73              59   \n",
       "253  compute-1-1 2019-06-09 21:05:00+00:00              73              58   \n",
       "254  compute-1-1 2019-06-09 21:10:00+00:00              73              59   \n",
       "255  compute-1-1 2019-06-09 21:15:00+00:00              73              59   \n",
       "256  compute-1-1 2019-06-09 21:20:00+00:00              73              58   \n",
       "257  compute-1-1 2019-06-09 21:25:00+00:00              41              33   \n",
       "258  compute-1-1 2019-06-09 21:30:00+00:00              39              32   \n",
       "259  compute-1-1 2019-06-09 21:35:00+00:00              38              32   \n",
       "260  compute-1-1 2019-06-09 21:40:00+00:00              39              32   \n",
       "\n",
       "    arrTemperature2 arrCPU_load0 arrMemory_usage0 arrFans_health0  \\\n",
       "249              20      5.30833          9.83492            8750   \n",
       "250              20      5.21528          9.84274            8890   \n",
       "251              20      5.41333          9.86619            8890   \n",
       "252              20      5.45319          9.79428            8750   \n",
       "253              20      5.08056          9.87661            8750   \n",
       "254              20      5.05028          9.87192            8890   \n",
       "255              20      5.24917          9.83075            8750   \n",
       "256              20      5.00278          9.88651            8890   \n",
       "257              20      2.78792          2.10778            8890   \n",
       "258              20      1.09181          2.15416            8890   \n",
       "259              20     0.374028          2.14061            8890   \n",
       "260              20     0.144444          2.11455            8890   \n",
       "\n",
       "    arrFans_health1 arrFans_health2 arrFans_health3 arrPower_usage0  \n",
       "249            8890            8890            8890             105  \n",
       "250            8890            8890            8750             105  \n",
       "251            8680            8890            8750         104.375  \n",
       "252            8680            8750            8750         104.688  \n",
       "253            8750            8750            8750         105.312  \n",
       "254            8890            8890            8890         100.625  \n",
       "255            8680            8750            8750         104.688  \n",
       "256            8890            8750            8890         104.688  \n",
       "257            8750            8890            8890         42.1875  \n",
       "258            8890            8890            8890         40.9375  \n",
       "259            8890            8890            8890         40.9375  \n",
       "260            8960            8890            8890           41.25  "
      ]
     },
     "execution_count": 18,
     "metadata": {},
     "output_type": "execute_result"
    }
   ],
   "source": [
    "X_dfs_train[249]"
   ]
  },
  {
   "cell_type": "code",
   "execution_count": 19,
   "metadata": {},
   "outputs": [
    {
     "data": {
      "text/plain": [
       "5"
      ]
     },
     "execution_count": 19,
     "metadata": {},
     "output_type": "execute_result"
    }
   ],
   "source": [
    "y_raw_train[249]"
   ]
  },
  {
   "cell_type": "code",
   "execution_count": 20,
   "metadata": {},
   "outputs": [
    {
     "data": {
      "text/plain": [
       "array([False, False, False, ..., False, False, False])"
      ]
     },
     "execution_count": 20,
     "metadata": {},
     "output_type": "execute_result"
    }
   ],
   "source": [
    "np.array(y_raw_train) > 10"
   ]
  },
  {
   "cell_type": "code",
   "execution_count": 90,
   "metadata": {},
   "outputs": [
    {
     "data": {
      "text/plain": [
       "array([False, False, False, ..., False, False, False])"
      ]
     },
     "execution_count": 90,
     "metadata": {},
     "output_type": "execute_result"
    }
   ],
   "source": [
    "y_dfs_train = np.array(y_raw_train) > 10\n",
    "y_dfs_test = np.array(y_raw_test) > 10\n",
    "\n",
    "y_dfs_train"
   ]
  },
  {
   "cell_type": "code",
   "execution_count": 23,
   "metadata": {},
   "outputs": [],
   "source": [
    "# write pickle\n",
    "with open('X_dfs_train.pickle', 'wb') as handle:\n",
    "    pickle.dump(X_dfs_train, handle, protocol=pickle.HIGHEST_PROTOCOL)\n",
    "    \n",
    "with open('y_raw_train.pickle', 'wb') as handle:\n",
    "    pickle.dump(y_raw_train, handle, protocol=pickle.HIGHEST_PROTOCOL)\n",
    "    \n",
    "with open('X_dfs_test.pickle', 'wb') as handle:\n",
    "    pickle.dump(X_dfs_test, handle, protocol=pickle.HIGHEST_PROTOCOL)\n",
    "    \n",
    "with open('y_raw_test.pickle', 'wb') as handle:\n",
    "    pickle.dump(y_raw_test, handle, protocol=pickle.HIGHEST_PROTOCOL)"
   ]
  },
  {
   "cell_type": "markdown",
   "metadata": {},
   "source": [
    "# Checkpoint"
   ]
  },
  {
   "cell_type": "code",
   "execution_count": 10,
   "metadata": {},
   "outputs": [],
   "source": [
    "# read pickle\n",
    "with open('X_dfs_train.pickle', 'rb') as handle:\n",
    "    X_dfs_train = pickle.load(handle)\n",
    "    \n",
    "with open('y_raw_train.pickle', 'rb') as handle:\n",
    "    y_raw_train = pickle.load(handle)\n",
    "    \n",
    "with open('X_dfs_test.pickle', 'rb') as handle:\n",
    "    X_dfs_test = pickle.load(handle)\n",
    "    \n",
    "with open('y_raw_test.pickle', 'rb') as handle:\n",
    "    y_raw_test = pickle.load(handle)\n",
    "\n",
    "features = ['arrTemperature0',\n",
    " 'arrTemperature1',\n",
    " 'arrTemperature2',\n",
    " 'arrCPU_load0',\n",
    " 'arrMemory_usage0',\n",
    " 'arrFans_health0',\n",
    " 'arrFans_health1',\n",
    " 'arrFans_health2',\n",
    " 'arrFans_health3',\n",
    " 'arrPower_usage0']\n",
    "\n",
    "y_dfs_train = np.array(y_raw_train) > 10\n",
    "y_dfs_test = np.array(y_raw_test) > 10"
   ]
  },
  {
   "cell_type": "code",
   "execution_count": 11,
   "metadata": {},
   "outputs": [
    {
     "data": {
      "text/plain": [
       "(745538, 180332)"
      ]
     },
     "execution_count": 11,
     "metadata": {},
     "output_type": "execute_result"
    }
   ],
   "source": [
    "len(X_dfs_train), len(X_dfs_test)"
   ]
  },
  {
   "cell_type": "code",
   "execution_count": 12,
   "metadata": {},
   "outputs": [
    {
     "data": {
      "text/plain": [
       "Counter({False: 743917, True: 1621})"
      ]
     },
     "execution_count": 12,
     "metadata": {},
     "output_type": "execute_result"
    }
   ],
   "source": [
    "Counter(y_dfs_train)"
   ]
  },
  {
   "cell_type": "code",
   "execution_count": 13,
   "metadata": {},
   "outputs": [
    {
     "data": {
      "text/plain": [
       "0.002179006528954171"
      ]
     },
     "execution_count": 13,
     "metadata": {},
     "output_type": "execute_result"
    }
   ],
   "source": [
    "1621/743917"
   ]
  },
  {
   "cell_type": "code",
   "execution_count": 14,
   "metadata": {},
   "outputs": [
    {
     "data": {
      "text/plain": [
       "Counter({False: 180264, True: 68})"
      ]
     },
     "execution_count": 14,
     "metadata": {},
     "output_type": "execute_result"
    }
   ],
   "source": [
    "Counter(y_dfs_test)"
   ]
  },
  {
   "cell_type": "code",
   "execution_count": 15,
   "metadata": {
    "scrolled": true
   },
   "outputs": [
    {
     "data": {
      "text/plain": [
       "0.0003772245151555496"
      ]
     },
     "execution_count": 15,
     "metadata": {},
     "output_type": "execute_result"
    }
   ],
   "source": [
    "68/180264"
   ]
  },
  {
   "cell_type": "markdown",
   "metadata": {},
   "source": [
    "# Sample"
   ]
  },
  {
   "cell_type": "code",
   "execution_count": 16,
   "metadata": {},
   "outputs": [],
   "source": [
    "train_ = [(x, y) for x, y in zip(X_dfs_train, y_dfs_train)]\n",
    "test_ = [(x, y) for x, y in zip(X_dfs_test, y_dfs_test)]\n",
    "\n",
    "num_samples_train = 20000\n",
    "num_samples_test = 4000\n",
    "\n",
    "train_sample = random.sample(train_, k=num_samples_train)\n",
    "test_sample = random.sample(test_, k=num_samples_test)"
   ]
  },
  {
   "cell_type": "code",
   "execution_count": 17,
   "metadata": {},
   "outputs": [],
   "source": [
    "X_train_sample = [x[0] for x in train_sample]\n",
    "y_train = np.array([x[1] for x in train_sample])\n",
    "\n",
    "X_test_sample = [x[0] for x in test_sample]\n",
    "y_test = np.array([x[1] for x in test_sample])"
   ]
  },
  {
   "cell_type": "markdown",
   "metadata": {},
   "source": [
    "# Normalize"
   ]
  },
  {
   "cell_type": "code",
   "execution_count": 18,
   "metadata": {},
   "outputs": [],
   "source": [
    "# combine the training data to create a scaler\n",
    "train_dfs_sample = pd.concat(X_train_sample)"
   ]
  },
  {
   "cell_type": "code",
   "execution_count": 19,
   "metadata": {},
   "outputs": [],
   "source": [
    "from sklearn.preprocessing import StandardScaler\n",
    "scaler = StandardScaler().fit(train_dfs_sample[features].values)"
   ]
  },
  {
   "cell_type": "code",
   "execution_count": 20,
   "metadata": {},
   "outputs": [],
   "source": [
    "X_train = np.array([scaler.transform(item[features].values) for item in X_train_sample])\n",
    "X_test = np.array([scaler.transform(item[features].values) for item in X_test_sample])"
   ]
  },
  {
   "cell_type": "code",
   "execution_count": 21,
   "metadata": {},
   "outputs": [],
   "source": [
    "## define metrics\n",
    "def f1(y_true, y_pred):\n",
    "    y_pred = K.round(y_pred)\n",
    "    tp = K.sum(K.cast(y_true*y_pred, 'float'), axis=0)\n",
    "    tn = K.sum(K.cast((1-y_true)*(1-y_pred), 'float'), axis=0)\n",
    "    fp = K.sum(K.cast((1-y_true)*y_pred, 'float'), axis=0)\n",
    "    fn = K.sum(K.cast(y_true*(1-y_pred), 'float'), axis=0)\n",
    "\n",
    "    p = tp / (tp + fp + K.epsilon())\n",
    "    r = tp / (tp + fn + K.epsilon())\n",
    "\n",
    "    f1 = 2*p*r / (p+r+K.epsilon())\n",
    "    f1 = tf.where(tf.is_nan(f1), tf.zeros_like(f1), f1)\n",
    "    return K.mean(f1)\n",
    "\n",
    "\n",
    "def max_f1(X, y, y_pred):\n",
    "    precision, recall, thresholds = precision_recall_curve(y, y_pred)\n",
    "    f1_scores = 2*recall*precision/(recall+precision)\n",
    "    print('Best threshold: ', thresholds[np.argmax(f1_scores)])\n",
    "    print('Best F1-Score: ', np.max(f1_scores))\n",
    "    return f1_scores\n",
    "\n",
    "\n",
    "## Difine model\n",
    "def create_model_1():\n",
    "    nn = Sequential()\n",
    "    nn.add(LSTM(80, input_shape=(12, 10), return_sequences=True, recurrent_dropout = 0.1))\n",
    "    nn.add(LSTM(60, recurrent_dropout = 0.2))\n",
    "    nn.add(Dropout(0.2))\n",
    "    nn.add(Dense(40, activation='relu'))\n",
    "    nn.add(Dropout(0.2))\n",
    "    nn.add(Dense(10, activation='relu'))\n",
    "    nn.add(Dense(1, activation='sigmoid'))\n",
    "    nn.compile(loss='binary_crossentropy', optimizer='adam',  metrics=[f1])\n",
    "    return nn\n",
    "\n",
    "def create_model_2(l1Nodes, l2Nodes, d1Nodes, d2Nodes, inputShape):\n",
    "    # input layer\n",
    "    lstm1 = LSTM(l1Nodes, input_shape=inputShape, return_sequences=True, kernel_regularizer=regularizers.l2(0.1))\n",
    "#     do1 = Dropout(0.2)\n",
    "    \n",
    "    lstm2 = LSTM(l2Nodes, return_sequences=True, kernel_regularizer=regularizers.l2(0.1))\n",
    "#     do2 = Dropout(0.2)\n",
    "    \n",
    "    flatten = Flatten()\n",
    "    \n",
    "    dense1 = Dense(d1Nodes, activation='relu')\n",
    "#     do3 = Dropout(0.2)\n",
    "    \n",
    "    dense2 = Dense(d2Nodes, activation='relu')\n",
    "#     do4 = Dropout(0.2)\n",
    "    \n",
    "    # output layer\n",
    "    outL = Dense(1, activation='sigmoid')\n",
    "    # combine the layers\n",
    "#     layers = [lstm1, do1, lstm2, do2, dense1, do3, dense2, do4, outL]\n",
    "    layers = [lstm1, lstm2, flatten,  dense1, dense2, outL]\n",
    "    # create the model\n",
    "    model = Sequential(layers)\n",
    "    model.compile(optimizer='adam', loss='binary_crossentropy')\n",
    "    return model"
   ]
  },
  {
   "cell_type": "code",
   "execution_count": 22,
   "metadata": {
    "scrolled": true
   },
   "outputs": [
    {
     "name": "stdout",
     "output_type": "stream",
     "text": [
      "WARNING:tensorflow:From C:\\ProgramData\\Anaconda3\\lib\\site-packages\\keras\\backend\\tensorflow_backend.py:74: The name tf.get_default_graph is deprecated. Please use tf.compat.v1.get_default_graph instead.\n",
      "\n",
      "WARNING:tensorflow:From C:\\ProgramData\\Anaconda3\\lib\\site-packages\\keras\\backend\\tensorflow_backend.py:517: The name tf.placeholder is deprecated. Please use tf.compat.v1.placeholder instead.\n",
      "\n",
      "WARNING:tensorflow:From C:\\ProgramData\\Anaconda3\\lib\\site-packages\\keras\\backend\\tensorflow_backend.py:4138: The name tf.random_uniform is deprecated. Please use tf.random.uniform instead.\n",
      "\n",
      "WARNING:tensorflow:From C:\\ProgramData\\Anaconda3\\lib\\site-packages\\keras\\backend\\tensorflow_backend.py:133: The name tf.placeholder_with_default is deprecated. Please use tf.compat.v1.placeholder_with_default instead.\n",
      "\n",
      "WARNING:tensorflow:From C:\\ProgramData\\Anaconda3\\lib\\site-packages\\keras\\backend\\tensorflow_backend.py:3445: calling dropout (from tensorflow.python.ops.nn_ops) with keep_prob is deprecated and will be removed in a future version.\n",
      "Instructions for updating:\n",
      "Please use `rate` instead of `keep_prob`. Rate should be set to `rate = 1 - keep_prob`.\n",
      "WARNING:tensorflow:From C:\\ProgramData\\Anaconda3\\lib\\site-packages\\keras\\optimizers.py:790: The name tf.train.Optimizer is deprecated. Please use tf.compat.v1.train.Optimizer instead.\n",
      "\n",
      "WARNING:tensorflow:From C:\\ProgramData\\Anaconda3\\lib\\site-packages\\keras\\backend\\tensorflow_backend.py:3376: The name tf.log is deprecated. Please use tf.math.log instead.\n",
      "\n",
      "WARNING:tensorflow:From C:\\ProgramData\\Anaconda3\\lib\\site-packages\\tensorflow_core\\python\\ops\\nn_impl.py:183: where (from tensorflow.python.ops.array_ops) is deprecated and will be removed in a future version.\n",
      "Instructions for updating:\n",
      "Use tf.where in 2.0, which has the same broadcast rule as np.where\n",
      "_________________________________________________________________\n",
      "Layer (type)                 Output Shape              Param #   \n",
      "=================================================================\n",
      "lstm_1 (LSTM)                (None, 12, 80)            29120     \n",
      "_________________________________________________________________\n",
      "lstm_2 (LSTM)                (None, 60)                33840     \n",
      "_________________________________________________________________\n",
      "dropout_1 (Dropout)          (None, 60)                0         \n",
      "_________________________________________________________________\n",
      "dense_1 (Dense)              (None, 40)                2440      \n",
      "_________________________________________________________________\n",
      "dropout_2 (Dropout)          (None, 40)                0         \n",
      "_________________________________________________________________\n",
      "dense_2 (Dense)              (None, 10)                410       \n",
      "_________________________________________________________________\n",
      "dense_3 (Dense)              (None, 1)                 11        \n",
      "=================================================================\n",
      "Total params: 65,821\n",
      "Trainable params: 65,821\n",
      "Non-trainable params: 0\n",
      "_________________________________________________________________\n"
     ]
    }
   ],
   "source": [
    "model = create_model_1()\n",
    "model.summary()"
   ]
  },
  {
   "cell_type": "code",
   "execution_count": 23,
   "metadata": {},
   "outputs": [],
   "source": [
    "os.environ['MKL_NUM_THREADS'] = '16'\n",
    "os.environ['GOTO_NUM_THREADS'] = '16'\n",
    "os.environ['OMP_NUM_THREADS'] = '16'\n",
    "os.environ['openmp'] = 'True'\n",
    "\n",
    "#K.set_session(K.tf.Session(config=K.tf.ConfigProto(intra_op_parallelism_threads=36, inter_op_parallelism_threads=36)))\n",
    "K.set_session(K.tf.Session(config=K.tf.ConfigProto(intra_op_parallelism_threads=32, inter_op_parallelism_threads=32)))"
   ]
  },
  {
   "cell_type": "code",
   "execution_count": 24,
   "metadata": {},
   "outputs": [
    {
     "name": "stdout",
     "output_type": "stream",
     "text": [
      "[name: \"/device:CPU:0\"\n",
      "device_type: \"CPU\"\n",
      "memory_limit: 268435456\n",
      "locality {\n",
      "}\n",
      "incarnation: 1373959271904252786\n",
      "]\n"
     ]
    }
   ],
   "source": [
    "os.environ[\"CUDA_VISIBLE_DEVICES\"]=\"0\"\n",
    "\n",
    "from tensorflow.python.client import device_lib\n",
    "print(device_lib.list_local_devices())"
   ]
  },
  {
   "cell_type": "code",
   "execution_count": 34,
   "metadata": {},
   "outputs": [
    {
     "data": {
      "text/plain": [
       "Counter({False: 743917, True: 1621})"
      ]
     },
     "execution_count": 34,
     "metadata": {},
     "output_type": "execute_result"
    }
   ],
   "source": [
    "Counter(y_dfs_train)"
   ]
  },
  {
   "cell_type": "code",
   "execution_count": 35,
   "metadata": {},
   "outputs": [
    {
     "data": {
      "text/plain": [
       "0.002179006528954171"
      ]
     },
     "execution_count": 35,
     "metadata": {},
     "output_type": "execute_result"
    }
   ],
   "source": [
    "1621/743917"
   ]
  },
  {
   "cell_type": "code",
   "execution_count": 25,
   "metadata": {},
   "outputs": [
    {
     "data": {
      "text/plain": [
       "Counter({False: 19957, True: 43})"
      ]
     },
     "execution_count": 25,
     "metadata": {},
     "output_type": "execute_result"
    }
   ],
   "source": [
    "Counter(y_train)"
   ]
  },
  {
   "cell_type": "code",
   "execution_count": 26,
   "metadata": {},
   "outputs": [
    {
     "data": {
      "text/plain": [
       "Counter({False: 3999, True: 1})"
      ]
     },
     "execution_count": 26,
     "metadata": {},
     "output_type": "execute_result"
    }
   ],
   "source": [
    "Counter(y_test)"
   ]
  },
  {
   "cell_type": "code",
   "execution_count": 29,
   "metadata": {},
   "outputs": [
    {
     "name": "stdout",
     "output_type": "stream",
     "text": [
      "running fold 1...\n",
      "WARNING:tensorflow:From C:\\ProgramData\\Anaconda3\\lib\\site-packages\\keras\\backend\\tensorflow_backend.py:986: The name tf.assign_add is deprecated. Please use tf.compat.v1.assign_add instead.\n",
      "\n",
      "WARNING:tensorflow:From C:\\ProgramData\\Anaconda3\\lib\\site-packages\\keras\\backend\\tensorflow_backend.py:973: The name tf.assign is deprecated. Please use tf.compat.v1.assign instead.\n",
      "\n",
      "Train on 16000 samples, validate on 4000 samples\n",
      "Epoch 1/40\n",
      "WARNING:tensorflow:From C:\\ProgramData\\Anaconda3\\lib\\site-packages\\keras\\backend\\tensorflow_backend.py:174: The name tf.get_default_session is deprecated. Please use tf.compat.v1.get_default_session instead.\n",
      "\n",
      "WARNING:tensorflow:From C:\\ProgramData\\Anaconda3\\lib\\site-packages\\keras\\backend\\tensorflow_backend.py:190: The name tf.global_variables is deprecated. Please use tf.compat.v1.global_variables instead.\n",
      "\n",
      "WARNING:tensorflow:From C:\\ProgramData\\Anaconda3\\lib\\site-packages\\keras\\backend\\tensorflow_backend.py:199: The name tf.is_variable_initialized is deprecated. Please use tf.compat.v1.is_variable_initialized instead.\n",
      "\n",
      "WARNING:tensorflow:From C:\\ProgramData\\Anaconda3\\lib\\site-packages\\keras\\backend\\tensorflow_backend.py:206: The name tf.variables_initializer is deprecated. Please use tf.compat.v1.variables_initializer instead.\n",
      "\n",
      "16000/16000 [==============================] - 24s 2ms/step - loss: 0.0373 - f1: 0.0000e+00 - val_loss: 0.0142 - val_f1: 0.0000e+00\n",
      "Epoch 2/40\n",
      "16000/16000 [==============================] - 18s 1ms/step - loss: 0.0168 - f1: 0.0000e+00 - val_loss: 0.0141 - val_f1: 0.0000e+00\n",
      "Epoch 3/40\n",
      "16000/16000 [==============================] - 18s 1ms/step - loss: 0.0170 - f1: 0.0000e+00 - val_loss: 0.0153 - val_f1: 0.0000e+00\n",
      "Epoch 4/40\n",
      "16000/16000 [==============================] - 18s 1ms/step - loss: 0.0168 - f1: 0.0000e+00 - val_loss: 0.0138 - val_f1: 0.0000e+00\n",
      "4000/4000 [==============================] - 1s 183us/step\n",
      "logloss on train set 0.01595438580473583\n",
      "logloss on test set 0.003419107350197919\n",
      "Check f1 on train set:\n",
      "Best threshold:  0.002809316\n",
      "Best F1-Score:  nan\n",
      "\n",
      "Check f1 on test set:\n",
      "Best threshold:  6.341934e-05\n",
      "Best F1-Score:  nan\n"
     ]
    },
    {
     "name": "stderr",
     "output_type": "stream",
     "text": [
      "C:\\ProgramData\\Anaconda3\\lib\\site-packages\\ipykernel_launcher.py:19: RuntimeWarning: invalid value encountered in true_divide\n"
     ]
    },
    {
     "data": {
      "image/png": "[encoded data removed]",
      "text/plain": [
       "<Figure size 432x288 with 1 Axes>"
      ]
     },
     "metadata": {
      "needs_background": "light"
     },
     "output_type": "display_data"
    },
    {
     "name": "stdout",
     "output_type": "stream",
     "text": [
      "-----\n",
      "running fold 2...\n",
      "Train on 16000 samples, validate on 4000 samples\n",
      "Epoch 1/40\n",
      "16000/16000 [==============================] - 22s 1ms/step - loss: 0.0532 - f1: 1.4815e-04 - val_loss: 0.0135 - val_f1: 0.0000e+00\n",
      "Epoch 2/40\n",
      "16000/16000 [==============================] - 18s 1ms/step - loss: 0.0168 - f1: 0.0000e+00 - val_loss: 0.0137 - val_f1: 0.0000e+00\n",
      "Epoch 3/40\n",
      "16000/16000 [==============================] - 17s 1ms/step - loss: 0.0168 - f1: 0.0000e+00 - val_loss: 0.0131 - val_f1: 0.0000e+00\n",
      "Epoch 4/40\n",
      "16000/16000 [==============================] - 17s 1ms/step - loss: 0.0164 - f1: 0.0000e+00 - val_loss: 0.0142 - val_f1: 0.0000e+00\n",
      "4000/4000 [==============================] - 1s 196us/step\n",
      "logloss on train set 0.014761503570381319\n",
      "logloss on test set 0.00395986114894913\n",
      "Check f1 on train set:\n",
      "Best threshold:  0.0045420825\n",
      "Best F1-Score:  nan\n",
      "\n",
      "Check f1 on test set:\n",
      "Best threshold:  0.0015732348\n",
      "Best F1-Score:  nan\n"
     ]
    },
    {
     "name": "stderr",
     "output_type": "stream",
     "text": [
      "C:\\ProgramData\\Anaconda3\\lib\\site-packages\\ipykernel_launcher.py:19: RuntimeWarning: invalid value encountered in true_divide\n"
     ]
    },
    {
     "data": {
      "image/png": "[encoded data removed]",
      "text/plain": [
       "<Figure size 432x288 with 1 Axes>"
      ]
     },
     "metadata": {
      "needs_background": "light"
     },
     "output_type": "display_data"
    },
    {
     "name": "stdout",
     "output_type": "stream",
     "text": [
      "-----\n",
      "running fold 3...\n",
      "Train on 16000 samples, validate on 4000 samples\n",
      "Epoch 1/40\n",
      "16000/16000 [==============================] - 24s 1ms/step - loss: 0.0401 - f1: 0.0000e+00 - val_loss: 0.0174 - val_f1: 0.0000e+00\n",
      "Epoch 2/40\n",
      "16000/16000 [==============================] - 18s 1ms/step - loss: 0.0161 - f1: 0.0000e+00 - val_loss: 0.0165 - val_f1: 0.0000e+00\n",
      "Epoch 3/40\n",
      "16000/16000 [==============================] - 18s 1ms/step - loss: 0.0166 - f1: 0.0000e+00 - val_loss: 0.0159 - val_f1: 0.0000e+00\n",
      "Epoch 4/40\n",
      "16000/16000 [==============================] - 18s 1ms/step - loss: 0.0163 - f1: 0.0000e+00 - val_loss: 0.0157 - val_f1: 0.0000e+00\n",
      "4000/4000 [==============================] - 1s 194us/step\n",
      "logloss on train set 0.016334050145840592\n",
      "logloss on test set 0.0027644824552116917\n",
      "Check f1 on train set:\n",
      "Best threshold:  0.0017318726\n",
      "Best F1-Score:  nan\n",
      "\n",
      "Check f1 on test set:\n",
      "Best threshold:  0.00021639466\n",
      "Best F1-Score:  nan\n"
     ]
    },
    {
     "name": "stderr",
     "output_type": "stream",
     "text": [
      "C:\\ProgramData\\Anaconda3\\lib\\site-packages\\ipykernel_launcher.py:19: RuntimeWarning: invalid value encountered in true_divide\n"
     ]
    },
    {
     "data": {
      "image/png": "[encoded data removed]",
      "text/plain": [
       "<Figure size 432x288 with 1 Axes>"
      ]
     },
     "metadata": {
      "needs_background": "light"
     },
     "output_type": "display_data"
    },
    {
     "name": "stdout",
     "output_type": "stream",
     "text": [
      "-----\n",
      "running fold 4...\n",
      "Train on 16000 samples, validate on 4000 samples\n",
      "Epoch 1/40\n",
      "16000/16000 [==============================] - 23s 1ms/step - loss: 0.0413 - f1: 0.0000e+00 - val_loss: 0.0161 - val_f1: 0.0000e+00\n",
      "Epoch 2/40\n",
      "16000/16000 [==============================] - 18s 1ms/step - loss: 0.0157 - f1: 0.0000e+00 - val_loss: 0.0164 - val_f1: 0.0000e+00\n",
      "Epoch 3/40\n",
      "16000/16000 [==============================] - 18s 1ms/step - loss: 0.0166 - f1: 0.0000e+00 - val_loss: 0.0162 - val_f1: 0.0000e+00\n",
      "Epoch 4/40\n",
      "16000/16000 [==============================] - 18s 1ms/step - loss: 0.0173 - f1: 0.0000e+00 - val_loss: 0.0166 - val_f1: 0.0000e+00\n",
      "4000/4000 [==============================] - 1s 207us/step\n",
      "logloss on train set 0.0156388038486868\n",
      "logloss on test set 0.0027111460141240966\n",
      "Check f1 on train set:\n",
      "Best threshold:  0.005119294\n",
      "Best F1-Score:  nan\n",
      "\n",
      "Check f1 on test set:\n",
      "Best threshold:  0.0011409521\n",
      "Best F1-Score:  nan\n"
     ]
    },
    {
     "name": "stderr",
     "output_type": "stream",
     "text": [
      "C:\\ProgramData\\Anaconda3\\lib\\site-packages\\ipykernel_launcher.py:19: RuntimeWarning: invalid value encountered in true_divide\n"
     ]
    },
    {
     "data": {
      "image/png": "[encoded data removed]",
      "text/plain": [
       "<Figure size 432x288 with 1 Axes>"
      ]
     },
     "metadata": {
      "needs_background": "light"
     },
     "output_type": "display_data"
    },
    {
     "name": "stdout",
     "output_type": "stream",
     "text": [
      "-----\n",
      "running fold 5...\n",
      "Train on 16000 samples, validate on 4000 samples\n",
      "Epoch 1/40\n",
      "16000/16000 [==============================] - 24s 1ms/step - loss: 0.0309 - f1: 0.0000e+00 - val_loss: 0.0172 - val_f1: 0.0000e+00\n",
      "Epoch 2/40\n",
      "16000/16000 [==============================] - 18s 1ms/step - loss: 0.0160 - f1: 0.0000e+00 - val_loss: 0.0168 - val_f1: 0.0000e+00\n",
      "Epoch 3/40\n",
      "16000/16000 [==============================] - 18s 1ms/step - loss: 0.0165 - f1: 0.0000e+00 - val_loss: 0.0163 - val_f1: 0.0000e+00\n",
      "Epoch 4/40\n",
      "16000/16000 [==============================] - 18s 1ms/step - loss: 0.0155 - f1: 0.0000e+00 - val_loss: 0.0194 - val_f1: 0.0000e+00\n",
      "4000/4000 [==============================] - 1s 204us/step\n",
      "logloss on train set 0.015318004435497279\n",
      "logloss on test set 0.003627147492741642\n",
      "Check f1 on train set:\n",
      "Best threshold:  0.0059008896\n",
      "Best F1-Score:  nan\n",
      "\n",
      "Check f1 on test set:\n",
      "Best threshold:  0.000706166\n",
      "Best F1-Score:  nan\n"
     ]
    },
    {
     "name": "stderr",
     "output_type": "stream",
     "text": [
      "C:\\ProgramData\\Anaconda3\\lib\\site-packages\\ipykernel_launcher.py:19: RuntimeWarning: invalid value encountered in true_divide\n"
     ]
    },
    {
     "data": {
      "image/png": "[encoded data removed]",
      "text/plain": [
       "<Figure size 432x288 with 1 Axes>"
      ]
     },
     "metadata": {
      "needs_background": "light"
     },
     "output_type": "display_data"
    },
    {
     "name": "stdout",
     "output_type": "stream",
     "text": [
      "-----\n"
     ]
    }
   ],
   "source": [
    "num_folds = 5\n",
    "using_SMOTE = True\n",
    "kfolds = StratifiedKFold(n_splits=5, random_state=2020, shuffle=True)\n",
    "error_logs = []\n",
    "counter= 1\n",
    "\n",
    "for trainIdx, testIdx in kfolds.split(X_train, y_train):\n",
    "\n",
    "    print(f\"running fold {counter}...\")\n",
    "    # create callbacks\n",
    "    model_path = 'best_model_fold'+str(counter)+'.h5'\n",
    "    mc = ModelCheckpoint(model_path, monitor='val_f1', mode='min', verbose=-1, save_best_only=True)\n",
    "    es = EarlyStopping(monitor='val_f1', min_delta=0, patience=3, verbose=-1)\n",
    "    # create model\n",
    "    model = create_model_1()\n",
    "    model.fit(X_train[trainIdx], y_train[trainIdx], validation_data=(X_train[testIdx], y_train[testIdx]), batch_size=32, epochs=40, callbacks=[mc, es], verbose =1)\n",
    "    # Done load the best model of this fold\n",
    "#     saved_model = load_model(model_path)\n",
    "    model.load_weights(filepath = model_path)\n",
    "\n",
    "    error_logs.append({'path': model_path, 'train_f1': model.evaluate(X_train[testIdx], y_train[testIdx])})\n",
    "    counter = counter + 1\n",
    "    \n",
    "    y_train_pred = model.predict(X_train)[:,0]\n",
    "    y_test_pred = model.predict(X_test)[:,0]\n",
    "    \n",
    "    print(f\"logloss on train set {log_loss(y_train, y_train_pred)}\")\n",
    "    print(f\"logloss on test set {log_loss(y_test, y_test_pred)}\")\n",
    "    \n",
    "    print(\"Check f1 on train set:\")\n",
    "    max_f1(X_train, y_train, y_train_pred)\n",
    "    \n",
    "    print(\"\\nCheck f1 on test set:\")\n",
    "    max_f1(X_test, y_test, y_test_pred)\n",
    "    \n",
    "    f = sns.distplot(y_test_pred)\n",
    "    plt.show(f)\n",
    "    print(\"-----\")"
   ]
  },
  {
   "cell_type": "code",
   "execution_count": 30,
   "metadata": {},
   "outputs": [
    {
     "data": {
      "text/plain": [
       "[{'path': 'best_model_fold1.h5', 'train_f1': [0.014205727028893307, 0.0]},\n",
       " {'path': 'best_model_fold2.h5', 'train_f1': [0.013512034346349537, 0.0]},\n",
       " {'path': 'best_model_fold3.h5', 'train_f1': [0.01742075359914452, 0.0]},\n",
       " {'path': 'best_model_fold4.h5', 'train_f1': [0.016118502792902292, 0.0]},\n",
       " {'path': 'best_model_fold5.h5', 'train_f1': [0.01722465949365869, 0.0]}]"
      ]
     },
     "execution_count": 30,
     "metadata": {},
     "output_type": "execute_result"
    }
   ],
   "source": [
    "error_logs"
   ]
  },
  {
   "cell_type": "code",
   "execution_count": 31,
   "metadata": {},
   "outputs": [
    {
     "name": "stdout",
     "output_type": "stream",
     "text": [
      "4000/4000 [==============================] - 2s 501us/step\n",
      "[0.003419107172638178, 0.0]\n",
      "4000/4000 [==============================] - 1s 201us/step\n",
      "[0.003959861434064805, 0.0]\n",
      "4000/4000 [==============================] - 1s 208us/step\n",
      "[0.0027644829656928776, 0.0]\n",
      "4000/4000 [==============================] - 1s 214us/step\n",
      "[0.0027111461604945363, 0.0]\n",
      "4000/4000 [==============================] - 1s 198us/step\n",
      "[0.0036271473160013556, 0.0]\n"
     ]
    }
   ],
   "source": [
    "model = create_model_1()\n",
    "for md in error_logs:\n",
    "    model.load_weights(filepath = md['path'])\n",
    "    print(model.evaluate(X_test, y_test))"
   ]
  },
  {
   "cell_type": "code",
   "execution_count": 32,
   "metadata": {},
   "outputs": [
    {
     "data": {
      "text/plain": [
       "<matplotlib.axes._subplots.AxesSubplot at 0x1e3f613ae88>"
      ]
     },
     "execution_count": 32,
     "metadata": {},
     "output_type": "execute_result"
    },
    {
     "data": {
      "image/png": "[encoded data removed]",
      "text/plain": [
       "<Figure size 432x288 with 1 Axes>"
      ]
     },
     "metadata": {
      "needs_background": "light"
     },
     "output_type": "display_data"
    }
   ],
   "source": [
    "sns.distplot(y_test_pred)"
   ]
  },
  {
   "cell_type": "code",
   "execution_count": null,
   "metadata": {},
   "outputs": [],
   "source": []
  },
  {
   "cell_type": "code",
   "execution_count": null,
   "metadata": {},
   "outputs": [],
   "source": []
  },
  {
   "cell_type": "code",
   "execution_count": null,
   "metadata": {},
   "outputs": [],
   "source": []
  }
 ],
 "metadata": {
  "kernelspec": {
   "display_name": "py37_env",
   "language": "python",
   "name": "py37_env"
  },
  "toc": {
   "base_numbering": 1,
   "nav_menu": {},
   "number_sections": true,
   "sideBar": true,
   "skip_h1_title": false,
   "title_cell": "Table of Contents",
   "title_sidebar": "Contents",
   "toc_cell": false,
   "toc_position": {
    "height": "calc(100% - 180px)",
    "left": "10px",
    "top": "150px",
    "width": "217.063px"
   },
   "toc_section_display": true,
   "toc_window_display": true
  }
 },
 "nbformat": 4,
 "nbformat_minor": 1
}
